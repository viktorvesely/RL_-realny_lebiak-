{
 "cells": [
  {
   "cell_type": "code",
   "execution_count": 7,
   "metadata": {},
   "outputs": [],
   "source": [
    "import gym\n",
    "import importlib\n",
    "import matplotlib.pyplot as plt\n",
    "import numpy as np\n",
    "importlib.reload(gym)\n",
    "\n",
    "def portions(bandits, nActions):\n",
    "    ret = np.zeros(nActions)\n",
    "    for action in range(nActions):\n",
    "        ret[action] = np.sum(bandits == action)\n",
    "    ret = ret / np.max(ret)\n",
    "    return ret\n",
    "\n",
    "\n",
    "# modified version of https://matplotlib.org/devdocs/gallery/subplots_axes_and_figures/two_scales.html\n",
    "def hist_eval(r, env):\n",
    "    ev = r[0] - (np.min(r[0]) if env == \"G\" else 0)\n",
    "    bandits = portions(r[1], ev.size)\n",
    "    actions = np.arange(ev.size)\n",
    "\n",
    "    fig, ax1 = plt.subplots()\n",
    "\n",
    "    color = 'tab:red'\n",
    "    ax1.set_xlabel('action')\n",
    "    ax1.set_ylabel('Relative E[a]', color=color)\n",
    "    ax1.bar(actions, ev, alpha=0.5, color=color)\n",
    "    ax1.tick_params(axis='y', labelcolor=color)\n",
    "\n",
    "    ax2 = ax1.twinx()  # instantiate a second axes that shares the same x-axis\n",
    "\n",
    "    color = 'tab:blue'\n",
    "    ax2.set_ylabel('% of ', color=color) \n",
    "    ax2.bar(actions, bandits, alpha=0.5, color=color)\n",
    "    ax2.tick_params(axis='y', labelcolor=color)\n",
    "\n",
    "    fig.tight_layout()  # otherwise the right y-label is slightly clipped\n",
    "    plt.show()\n",
    "    "
   ]
  },
  {
   "cell_type": "code",
   "execution_count": 9,
   "metadata": {},
   "outputs": [
    {
     "name": "stdout",
     "output_type": "stream",
     "text": [
      "t=99.9000999000999\n"
     ]
    },
    {
     "data": {
      "image/png": "[encoded data removed]",
      "text/plain": [
       "<Figure size 432x288 with 2 Axes>"
      ]
     },
     "metadata": {
      "needs_background": "light"
     },
     "output_type": "display_data"
    }
   ],
   "source": [
    "method = \"greedy\"\n",
    "env = \"B\"\n",
    "r = gym.gains(method, env, k=10, N=100, T=1000)\n",
    "hist_eval(r, env)\n"
   ]
  }
 ],
 "metadata": {
  "interpreter": {
   "hash": "2db524e06e9f5f4ffedc911c917cb75e12dbc923643829bf417064a77eb14d37"
  },
  "kernelspec": {
   "display_name": "Python 3.8.6 64-bit",
   "language": "python",
   "name": "python3"
  },
  "language_info": {
   "codemirror_mode": {
    "name": "ipython",
    "version": 3
   },
   "file_extension": ".py",
   "mimetype": "text/x-python",
   "name": "python",
   "nbconvert_exporter": "python",
   "pygments_lexer": "ipython3",
   "version": "3.8.6"
  },
  "orig_nbformat": 4
 },
 "nbformat": 4,
 "nbformat_minor": 2
}
